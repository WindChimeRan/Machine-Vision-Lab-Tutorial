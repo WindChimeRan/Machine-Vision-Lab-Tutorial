{
 "cells": [
  {
   "cell_type": "code",
   "execution_count": 23,
   "metadata": {
    "collapsed": true
   },
   "outputs": [],
   "source": [
    "import numpy as np"
   ]
  },
  {
   "cell_type": "code",
   "execution_count": 24,
   "metadata": {
    "collapsed": true
   },
   "outputs": [],
   "source": [
    "a = np.arange(10)[1:].reshape([9,1])"
   ]
  },
  {
   "cell_type": "code",
   "execution_count": 25,
   "metadata": {
    "collapsed": false
   },
   "outputs": [],
   "source": [
    "b = a.reshape([9])"
   ]
  },
  {
   "cell_type": "code",
   "execution_count": 27,
   "metadata": {
    "collapsed": false
   },
   "outputs": [
    {
     "data": {
      "text/plain": [
       "array([[ 1,  2,  3,  4,  5,  6,  7,  8,  9],\n",
       "       [ 2,  4,  6,  8, 10, 12, 14, 16, 18],\n",
       "       [ 3,  6,  9, 12, 15, 18, 21, 24, 27],\n",
       "       [ 4,  8, 12, 16, 20, 24, 28, 32, 36],\n",
       "       [ 5, 10, 15, 20, 25, 30, 35, 40, 45],\n",
       "       [ 6, 12, 18, 24, 30, 36, 42, 48, 54],\n",
       "       [ 7, 14, 21, 28, 35, 42, 49, 56, 63],\n",
       "       [ 8, 16, 24, 32, 40, 48, 56, 64, 72],\n",
       "       [ 9, 18, 27, 36, 45, 54, 63, 72, 81]])"
      ]
     },
     "execution_count": 27,
     "metadata": {},
     "output_type": "execute_result"
    }
   ],
   "source": [
    "a*b"
   ]
  },
  {
   "cell_type": "code",
   "execution_count": 26,
   "metadata": {
    "collapsed": false,
    "scrolled": true
   },
   "outputs": [
    {
     "data": {
      "text/plain": [
       "[array([1, 2, 3, 4, 5, 6, 7, 8, 9]),\n",
       " array([ 4,  6,  8, 10, 12, 14, 16, 18]),\n",
       " array([ 9, 12, 15, 18, 21, 24, 27]),\n",
       " array([16, 20, 24, 28, 32, 36]),\n",
       " array([25, 30, 35, 40, 45]),\n",
       " array([36, 42, 48, 54]),\n",
       " array([49, 56, 63]),\n",
       " array([64, 72]),\n",
       " array([81])]"
      ]
     },
     "execution_count": 26,
     "metadata": {},
     "output_type": "execute_result"
    }
   ],
   "source": [
    "[(a*b)[i,i:] for i in range(9) ]"
   ]
  },
  {
   "cell_type": "code",
   "execution_count": 28,
   "metadata": {
    "collapsed": false
   },
   "outputs": [
    {
     "name": "stdout",
     "output_type": "stream",
     "text": [
      "1*1=1 \n",
      "1*2=2  2*2=4 \n",
      "1*3=3  2*3=6  3*3=9 \n",
      "1*4=4  2*4=8  3*4=12 4*4=16\n",
      "1*5=5  2*5=10 3*5=15 4*5=20 5*5=25\n",
      "1*6=6  2*6=12 3*6=18 4*6=24 5*6=30 6*6=36\n",
      "1*7=7  2*7=14 3*7=21 4*7=28 5*7=35 6*7=42 7*7=49\n",
      "1*8=8  2*8=16 3*8=24 4*8=32 5*8=40 6*8=48 7*8=56 8*8=64\n",
      "1*9=9  2*9=18 3*9=27 4*9=36 5*9=45 6*9=54 7*9=63 8*9=72 9*9=81\n"
     ]
    }
   ],
   "source": [
    "print ('\\n'.join([' '.join(['%s*%s=%-2s' % (j,i,i*j) for j in range(1,i+1)]) for i in range(1,10)]))"
   ]
  },
  {
   "cell_type": "code",
   "execution_count": null,
   "metadata": {
    "collapsed": true
   },
   "outputs": [],
   "source": []
  }
 ],
 "metadata": {
  "anaconda-cloud": {},
  "kernelspec": {
   "display_name": "Python [Root]",
   "language": "python",
   "name": "Python [Root]"
  },
  "language_info": {
   "codemirror_mode": {
    "name": "ipython",
    "version": 3
   },
   "file_extension": ".py",
   "mimetype": "text/x-python",
   "name": "python",
   "nbconvert_exporter": "python",
   "pygments_lexer": "ipython3",
   "version": "3.5.2"
  }
 },
 "nbformat": 4,
 "nbformat_minor": 0
}
