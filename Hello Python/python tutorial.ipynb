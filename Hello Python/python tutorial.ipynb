{
 "cells": [
  {
   "cell_type": "markdown",
   "metadata": {
    "nbpresent": {
     "id": "bce6252a-0545-4446-947b-1592317ca93f"
    }
   },
   "source": [
    "# Hello World!"
   ]
  },
  {
   "cell_type": "code",
   "execution_count": null,
   "metadata": {
    "collapsed": false,
    "nbpresent": {
     "id": "a8396118-c3dc-4f51-8ed2-13583d3a34a5"
    }
   },
   "outputs": [],
   "source": [
    "print('hello python')"
   ]
  },
  {
   "cell_type": "code",
   "execution_count": null,
   "metadata": {
    "collapsed": false,
    "nbpresent": {
     "id": "466e74a0-eef1-45b7-b0b3-b26b98c3da6b"
    }
   },
   "outputs": [],
   "source": [
    "a = 'hello python '\n",
    "10 * (a + '! ')"
   ]
  },
  {
   "cell_type": "code",
   "execution_count": null,
   "metadata": {
    "collapsed": false,
    "nbpresent": {
     "id": "83948867-d1c2-441d-a9d2-544c89cd59b1"
    },
    "scrolled": false
   },
   "outputs": [],
   "source": [
    "import this"
   ]
  },
  {
   "cell_type": "code",
   "execution_count": null,
   "metadata": {
    "collapsed": true,
    "nbpresent": {
     "id": "22445200-c560-4e40-ad02-04cfca8ebc4e"
    }
   },
   "outputs": [],
   "source": [
    "1 + 1"
   ]
  },
  {
   "cell_type": "code",
   "execution_count": null,
   "metadata": {
    "collapsed": true,
    "nbpresent": {
     "id": "27d252c7-56a3-49d4-b27e-ef0af1909934"
    }
   },
   "outputs": [],
   "source": [
    "a = 1"
   ]
  },
  {
   "cell_type": "code",
   "execution_count": null,
   "metadata": {
    "collapsed": false,
    "nbpresent": {
     "id": "6e8f9086-b87b-41c5-a1f0-33c0401d260e"
    }
   },
   "outputs": [],
   "source": [
    "a + 0.1"
   ]
  },
  {
   "cell_type": "markdown",
   "metadata": {
    "nbpresent": {
     "id": "2d06a4c2-e7f3-4a71-bba8-645c56ee3ad5"
    }
   },
   "source": [
    "# Functions if else and loop!"
   ]
  },
  {
   "cell_type": "code",
   "execution_count": null,
   "metadata": {
    "collapsed": false,
    "nbpresent": {
     "id": "1e22cd31-44f0-47f3-8763-ac4c5640850a"
    }
   },
   "outputs": [],
   "source": [
    "def eat_watermellon(watermellon = '甜'):\n",
    "    \n",
    "    if watermellon == '甜':\n",
    "        print('好瓜')\n",
    "    elif watermellon == '没味道':\n",
    "        print('坏瓜，下次不买他们家的了')\n",
    "    elif watermellon == '苦':\n",
    "        print('我可能要拉肚子啦！')\n",
    "\n",
    "a = eat_watermellon('没味道')\n",
    "print(a)"
   ]
  },
  {
   "cell_type": "code",
   "execution_count": null,
   "metadata": {
    "collapsed": false,
    "nbpresent": {
     "id": "7042908a-48c2-4ad5-8ba2-4e85f147028b"
    }
   },
   "outputs": [],
   "source": [
    "def eat_watermellon(watermellon = '甜'):\n",
    "    \n",
    "    if watermellon == '甜':\n",
    "        print('好瓜')\n",
    "    elif watermellon == '没味道':\n",
    "        print('坏瓜，下次不买他们家的了')\n",
    "    elif watermellon == '苦':\n",
    "        print('我可能要拉肚子啦！')\n",
    "\n",
    "watermellon = 200\n",
    "spoon = 20\n",
    "quality = '苦'\n",
    "def summer(time):\n",
    "    \n",
    "    for i in range(watermellon//spoon):\n",
    "        print(time)\n",
    "    print('吃完啦！')\n",
    "    eat_watermellon(quality)\n",
    "    \n",
    "state = '冷'\n",
    "state = '热'\n",
    "\n",
    "summer('吃瓜') if state == '热' else print('睡觉')\n"
   ]
  },
  {
   "cell_type": "markdown",
   "metadata": {
    "nbpresent": {
     "id": "b3b41cc4-a105-452d-81e1-701a94e20c6e"
    }
   },
   "source": [
    "## More interesting!"
   ]
  },
  {
   "cell_type": "markdown",
   "metadata": {
    "nbpresent": {
     "id": "ef724bd8-f3e7-4306-95d0-96e9ccf49a9c"
    }
   },
   "source": [
    " $\\pi$\n",
    "\n",
    " $$tan\\frac{\\pi}{4} =1 $$\n",
    " Taylor it\n",
    "\n",
    " $$ \\pi = 4 arctan 1 $$\n",
    " $$ x = tany$$\n",
    " $$ arctan'x= \\frac{1}{tan'y} = cos^2y$$\n",
    " $$ \\frac{\\mathrm{d}(arctanx)}{\\mathrm{d}x} = \\frac{dx}{1+x^2} $$\n",
    "\n",
    " $$ \\frac{1}{1-x} = 1+x + x^2+x^3... $$\n",
    " $$ \\frac{1}{1+x^2} = 1-x^2 + x^4... $$\n",
    " $$\\frac{\\pi}{4} = 1 - \\frac{1}{3} +\\frac{1}{5} - \\frac{1}{7} + \\frac{1}{9} - \\frac{1}{11} + \\frac{1}{13} -\\frac{1}{15} ...$$\n",
    "\n",
    "\n"
   ]
  },
  {
   "cell_type": "code",
   "execution_count": null,
   "metadata": {
    "collapsed": false,
    "nbpresent": {
     "id": "7ddf6901-07f4-4aa7-846d-c7ad80630abf"
    }
   },
   "outputs": [],
   "source": [
    "def cal_pi(n):\n",
    "    \n",
    "    ipi = 0\n",
    "    for i in range(1,n):\n",
    "        ipi += (-1) ** (i+1) / (2 * i - 1) \n",
    "\n",
    "    return 4 * ipi\n",
    "\n",
    "cal_pi(int(1e6))"
   ]
  },
  {
   "cell_type": "markdown",
   "metadata": {
    "nbpresent": {
     "id": "6bc1cb49-d124-47ba-9c28-37fda16073a4"
    }
   },
   "source": [
    "# List Comprehension!"
   ]
  },
  {
   "cell_type": "code",
   "execution_count": null,
   "metadata": {
    "collapsed": false,
    "nbpresent": {
     "id": "c2205e6f-2d8a-4779-9ea6-d410d478cf96"
    }
   },
   "outputs": [],
   "source": [
    "[2 * i for i in range(1,20)]"
   ]
  },
  {
   "cell_type": "code",
   "execution_count": null,
   "metadata": {
    "collapsed": false,
    "nbpresent": {
     "id": "5be35a60-af55-4838-ac43-6a5dd6e71d03"
    },
    "scrolled": true
   },
   "outputs": [],
   "source": [
    "[4 * (-1) ** (i+1) / (2 * i - 1) for i in range(1,20)]"
   ]
  },
  {
   "cell_type": "markdown",
   "metadata": {
    "nbpresent": {
     "id": "0d982c62-e408-4392-9dc8-dd20874c780a"
    }
   },
   "source": [
    "$ accumulate ( list x ) = scanl1  (+)  (list x) $ IN HASKELL"
   ]
  },
  {
   "cell_type": "code",
   "execution_count": null,
   "metadata": {
    "collapsed": false,
    "nbpresent": {
     "id": "755b8caa-b935-49a3-b863-a9331f77d23f"
    }
   },
   "outputs": [],
   "source": [
    "from itertools import accumulate\n",
    "accumulate([4 * (-1) ** (i+1) / (2 * i - 1) for i in range(1,20)])"
   ]
  },
  {
   "cell_type": "code",
   "execution_count": null,
   "metadata": {
    "collapsed": false,
    "nbpresent": {
     "id": "3d591cf0-5813-4ee3-b0bc-39a708fa6b7e"
    },
    "scrolled": true
   },
   "outputs": [],
   "source": [
    "list(accumulate([4 * (-1) ** (i+1) / (2 * i - 1) for i in range(1,20)]))"
   ]
  },
  {
   "cell_type": "code",
   "execution_count": null,
   "metadata": {
    "collapsed": false,
    "nbpresent": {
     "id": "7dad5621-49a9-48bc-91d9-5fb1124fcf92"
    }
   },
   "outputs": [],
   "source": [
    "n = 5000\n",
    "list(accumulate([4 * (-1) ** (i+1) / (2 * i - 1) for i in range(1,n)]))[-1]"
   ]
  },
  {
   "cell_type": "code",
   "execution_count": null,
   "metadata": {
    "collapsed": false,
    "nbpresent": {
     "id": "462f936c-fe66-47f2-99fa-c8a3181b25a4"
    }
   },
   "outputs": [],
   "source": [
    "from itertools import accumulate\n",
    "import sys\n",
    "\n",
    "ipi = accumulate(4 * (-1) ** (i+1) / (2 * i - 1) for i in range(1,sys.maxsize))\n",
    "for i in zip(ipi,range(10000)):\n",
    "    re = i\n",
    "\n",
    "print(re)\n"
   ]
  },
  {
   "cell_type": "markdown",
   "metadata": {
    "nbpresent": {
     "id": "3795fac9-9555-4f9a-b46c-b2e6b613bd3f"
    }
   },
   "source": [
    "# Currying ? Partial Application?"
   ]
  },
  {
   "cell_type": "code",
   "execution_count": null,
   "metadata": {
    "collapsed": false,
    "nbpresent": {
     "id": "581e0bc6-8749-48c0-9583-9a910b85ddba"
    }
   },
   "outputs": [],
   "source": [
    "import functools \n",
    "max10 = functools.partial(max, 10)\n",
    "\n",
    "max10(11)"
   ]
  },
  {
   "cell_type": "code",
   "execution_count": null,
   "metadata": {
    "collapsed": false,
    "nbpresent": {
     "id": "a5b06d07-6b84-495a-8658-f5ee206b4511"
    }
   },
   "outputs": [],
   "source": [
    "f = lambda x,y:(x+y)/(x-y)\n",
    "print(f(1,2))\n",
    "max10 = functools.partial(f,1)\n",
    "print(max10(2))\n",
    "\n",
    "# bad code!"
   ]
  },
  {
   "cell_type": "code",
   "execution_count": null,
   "metadata": {
    "collapsed": true,
    "nbpresent": {
     "id": "1750705e-036a-4872-bf73-eff59866f29d"
    }
   },
   "outputs": [],
   "source": [
    "def foo(a=1,b=2,c=3,d=4,):\n",
    "    \n",
    "    print(a)\n",
    "    print(b)\n",
    "    print(c)\n",
    "    print(d)"
   ]
  },
  {
   "cell_type": "code",
   "execution_count": null,
   "metadata": {
    "collapsed": false,
    "nbpresent": {
     "id": "618f6b92-1f19-40cb-a089-38a77ca0b915"
    }
   },
   "outputs": [],
   "source": [
    "a = functools.partial(foo,a=20,c=30,d=40)"
   ]
  },
  {
   "cell_type": "code",
   "execution_count": null,
   "metadata": {
    "collapsed": false,
    "nbpresent": {
     "id": "32da7730-88f5-42c2-9379-ddb46dc38f25"
    }
   },
   "outputs": [],
   "source": [
    "a(b=8)"
   ]
  },
  {
   "cell_type": "code",
   "execution_count": 1,
   "metadata": {
    "collapsed": true,
    "nbpresent": {
     "id": "a469213e-c469-4850-b3bb-c00a31bb8dc7"
    }
   },
   "outputs": [],
   "source": [
    "import tensorflow as tf"
   ]
  },
  {
   "cell_type": "code",
   "execution_count": 2,
   "metadata": {
    "collapsed": false,
    "nbpresent": {
     "id": "6413e5ec-8f15-44b2-86b4-378521071571"
    },
    "scrolled": true
   },
   "outputs": [],
   "source": [
    "?tf.nn.convolution\n",
    "# Signature: tf.nn.convolution(input, filter, padding, strides=None, dilation_rate=None, name=None, data_format=None)"
   ]
  },
  {
   "cell_type": "code",
   "execution_count": null,
   "metadata": {
    "collapsed": false,
    "nbpresent": {
     "id": "56644c4a-f939-47da-bde4-22e08d1aa3c6"
    }
   },
   "outputs": [],
   "source": [
    "conv33 = functools.partial(tf.nn.convolution,filter = [3,3,500,500],padding='SAME',stride = 1)"
   ]
  }
 ],
 "metadata": {
  "anaconda-cloud": {},
  "kernelspec": {
   "display_name": "Python [Root]",
   "language": "python",
   "name": "Python [Root]"
  },
  "language_info": {
   "codemirror_mode": {
    "name": "ipython",
    "version": 3
   },
   "file_extension": ".py",
   "mimetype": "text/x-python",
   "name": "python",
   "nbconvert_exporter": "python",
   "pygments_lexer": "ipython3",
   "version": "3.5.2"
  },
  "nbpresent": {
   "slides": {
    "0920d637-89e0-46e9-b49a-60fc5d9fa196": {
     "id": "0920d637-89e0-46e9-b49a-60fc5d9fa196",
     "prev": "cbab5262-b0e5-456a-9098-c211ef646b8b",
     "regions": {
      "0d76a5c2-cfcc-41db-9df2-b660de2e6bfc": {
       "attrs": {
        "height": 0.8,
        "width": 0.8,
        "x": 0.1,
        "y": 0.1
       },
       "content": {
        "cell": "3d591cf0-5813-4ee3-b0bc-39a708fa6b7e",
        "part": "whole"
       },
       "id": "0d76a5c2-cfcc-41db-9df2-b660de2e6bfc"
      }
     }
    },
    "0a72654a-b43e-45a5-9881-08319b69d236": {
     "id": "0a72654a-b43e-45a5-9881-08319b69d236",
     "prev": "4b009eea-f35a-48c0-9333-5d454cb4bd7c",
     "regions": {
      "fdac953b-cc31-4232-a3a7-2760d6c2b351": {
       "attrs": {
        "height": 0.8,
        "width": 0.8,
        "x": 0.1,
        "y": 0.1
       },
       "content": {
        "cell": "b3b41cc4-a105-452d-81e1-701a94e20c6e",
        "part": "whole"
       },
       "id": "fdac953b-cc31-4232-a3a7-2760d6c2b351"
      }
     }
    },
    "140b1cfd-5af4-44c5-9609-78c215810f63": {
     "id": "140b1cfd-5af4-44c5-9609-78c215810f63",
     "prev": "f79def7e-009f-4e47-ab9c-b6efe4c751a6",
     "regions": {
      "0094d42d-52c9-4a64-90d9-d07f84a43d55": {
       "attrs": {
        "height": 0.8,
        "width": 0.8,
        "x": 0.1,
        "y": 0.1
       },
       "content": {
        "cell": "6bc1cb49-d124-47ba-9c28-37fda16073a4",
        "part": "whole"
       },
       "id": "0094d42d-52c9-4a64-90d9-d07f84a43d55"
      }
     }
    },
    "2ea3bdc0-2ecd-4186-aeed-4f1def04028d": {
     "id": "2ea3bdc0-2ecd-4186-aeed-4f1def04028d",
     "prev": "783e253e-c4f5-4ef4-98b4-ada53ef0c457",
     "regions": {
      "2a6982e4-0295-4157-8d45-2d2637ab8fb2": {
       "attrs": {
        "height": 0.8,
        "width": 0.8,
        "x": 0.1,
        "y": 0.1
       },
       "content": {
        "cell": "581e0bc6-8749-48c0-9583-9a910b85ddba",
        "part": "whole"
       },
       "id": "2a6982e4-0295-4157-8d45-2d2637ab8fb2"
      }
     }
    },
    "4a7d340f-db15-448c-9a0a-9d02a48ca1ad": {
     "id": "4a7d340f-db15-448c-9a0a-9d02a48ca1ad",
     "prev": "edbb4607-f60c-4b28-bded-83bd5b180fb3",
     "regions": {
      "b62c245d-3c6a-4784-b3a8-c4da91e14d83": {
       "attrs": {
        "height": 0.8,
        "width": 0.8,
        "x": 0.1,
        "y": 0.1
       },
       "content": {
        "cell": "1e22cd31-44f0-47f3-8763-ac4c5640850a",
        "part": "whole"
       },
       "id": "b62c245d-3c6a-4784-b3a8-c4da91e14d83"
      }
     }
    },
    "4b009eea-f35a-48c0-9333-5d454cb4bd7c": {
     "id": "4b009eea-f35a-48c0-9333-5d454cb4bd7c",
     "prev": "4a7d340f-db15-448c-9a0a-9d02a48ca1ad",
     "regions": {
      "4dcaa5ed-b50b-4db9-a053-8a0ac5afa029": {
       "attrs": {
        "height": 0.8,
        "width": 0.8,
        "x": 0.1,
        "y": 0.1
       },
       "content": {
        "cell": "7042908a-48c2-4ad5-8ba2-4e85f147028b",
        "part": "whole"
       },
       "id": "4dcaa5ed-b50b-4db9-a053-8a0ac5afa029"
      }
     }
    },
    "5e579586-21bc-412a-afb1-cf6541a1b0c3": {
     "id": "5e579586-21bc-412a-afb1-cf6541a1b0c3",
     "prev": "140b1cfd-5af4-44c5-9609-78c215810f63",
     "regions": {
      "2a764210-60a8-4272-9a8b-6c4288d8ab14": {
       "attrs": {
        "height": 0.8,
        "width": 0.8,
        "x": 0.1,
        "y": 0.1
       },
       "content": {
        "cell": "c2205e6f-2d8a-4779-9ea6-d410d478cf96",
        "part": "whole"
       },
       "id": "2a764210-60a8-4272-9a8b-6c4288d8ab14"
      }
     }
    },
    "6c794dc8-8d3d-4651-9be5-4a988b7a65c3": {
     "id": "6c794dc8-8d3d-4651-9be5-4a988b7a65c3",
     "prev": "b2980439-5754-476f-92c3-9f0e30e7dbc0",
     "regions": {
      "85c45f74-2f9a-44cc-958f-5980dc7e79db": {
       "attrs": {
        "height": 0.8,
        "width": 0.8,
        "x": 0.1,
        "y": 0.1
       },
       "content": {
        "cell": "32da7730-88f5-42c2-9379-ddb46dc38f25",
        "part": "whole"
       },
       "id": "85c45f74-2f9a-44cc-958f-5980dc7e79db"
      }
     }
    },
    "6d281c83-7eb4-43ff-a63c-f27baa52b841": {
     "id": "6d281c83-7eb4-43ff-a63c-f27baa52b841",
     "prev": "e765d071-2d6c-4e34-b6c7-4c4bd174569c",
     "regions": {
      "30521ddb-37e1-44a3-bccb-3c25ba88a7dd": {
       "attrs": {
        "height": 0.8,
        "width": 0.8,
        "x": 0.1,
        "y": 0.1
       },
       "content": {
        "cell": "56644c4a-f939-47da-bde4-22e08d1aa3c6",
        "part": "whole"
       },
       "id": "30521ddb-37e1-44a3-bccb-3c25ba88a7dd"
      }
     }
    },
    "783e253e-c4f5-4ef4-98b4-ada53ef0c457": {
     "id": "783e253e-c4f5-4ef4-98b4-ada53ef0c457",
     "prev": "8fb13a70-9a43-49e4-af7f-478b9c18088b",
     "regions": {
      "829f5530-b2f3-4f7e-a13e-e9983f291b81": {
       "attrs": {
        "height": 0.8,
        "width": 0.8,
        "x": 0.1,
        "y": 0.1
       },
       "content": {
        "cell": "3795fac9-9555-4f9a-b46c-b2e6b613bd3f",
        "part": "whole"
       },
       "id": "829f5530-b2f3-4f7e-a13e-e9983f291b81"
      }
     }
    },
    "7dc99167-2417-4c39-80a3-a07f3b7e4dce": {
     "id": "7dc99167-2417-4c39-80a3-a07f3b7e4dce",
     "prev": "5e579586-21bc-412a-afb1-cf6541a1b0c3",
     "regions": {
      "c5861b8b-ca98-459a-89ff-4df18d74a9f0": {
       "attrs": {
        "height": 0.8,
        "width": 0.8,
        "x": 0.1,
        "y": 0.1
       },
       "content": {
        "cell": "5be35a60-af55-4838-ac43-6a5dd6e71d03",
        "part": "whole"
       },
       "id": "c5861b8b-ca98-459a-89ff-4df18d74a9f0"
      }
     }
    },
    "8d98b482-fb77-49c1-8803-533f8c2af1d8": {
     "id": "8d98b482-fb77-49c1-8803-533f8c2af1d8",
     "prev": "7dc99167-2417-4c39-80a3-a07f3b7e4dce",
     "regions": {
      "4651ed7f-9950-4964-a6b2-aa7b558f08a2": {
       "attrs": {
        "height": 0.8,
        "width": 0.8,
        "x": 0.1,
        "y": 0.1
       },
       "content": {
        "cell": "0d982c62-e408-4392-9dc8-dd20874c780a",
        "part": "whole"
       },
       "id": "4651ed7f-9950-4964-a6b2-aa7b558f08a2"
      }
     }
    },
    "8fb13a70-9a43-49e4-af7f-478b9c18088b": {
     "id": "8fb13a70-9a43-49e4-af7f-478b9c18088b",
     "prev": "ef224000-de03-4af7-b2fc-c89d52ee2123",
     "regions": {
      "681e8b48-611a-44e1-bae0-b56e559ba5f0": {
       "attrs": {
        "height": 0.8,
        "width": 0.8,
        "x": 0.1,
        "y": 0.1
       },
       "content": {
        "cell": "462f936c-fe66-47f2-99fa-c8a3181b25a4",
        "part": "whole"
       },
       "id": "681e8b48-611a-44e1-bae0-b56e559ba5f0"
      }
     }
    },
    "925e8576-3fc3-432e-b0dc-ba3f22b98d3c": {
     "id": "925e8576-3fc3-432e-b0dc-ba3f22b98d3c",
     "prev": "f62fc740-21a1-4a4e-b03a-9a33bf3a12c7",
     "regions": {
      "71026210-324b-4a81-85b4-98d767f7ebde": {
       "attrs": {
        "height": 0.8,
        "width": 0.8,
        "x": 0.1,
        "y": 0.1
       },
       "content": {
        "cell": "1750705e-036a-4872-bf73-eff59866f29d",
        "part": "whole"
       },
       "id": "71026210-324b-4a81-85b4-98d767f7ebde"
      }
     }
    },
    "b2980439-5754-476f-92c3-9f0e30e7dbc0": {
     "id": "b2980439-5754-476f-92c3-9f0e30e7dbc0",
     "prev": "925e8576-3fc3-432e-b0dc-ba3f22b98d3c",
     "regions": {
      "e3cc32f6-c027-42aa-9c48-fc44be237a43": {
       "attrs": {
        "height": 0.8,
        "width": 0.8,
        "x": 0.1,
        "y": 0.1
       },
       "content": {
        "cell": "618f6b92-1f19-40cb-a089-38a77ca0b915",
        "part": "whole"
       },
       "id": "e3cc32f6-c027-42aa-9c48-fc44be237a43"
      }
     }
    },
    "b8100ff5-453f-4cc0-81ac-3e569090dd49": {
     "id": "b8100ff5-453f-4cc0-81ac-3e569090dd49",
     "prev": "d7fe5371-3aa8-4408-a070-92283ee7c835",
     "regions": {
      "151cf6b9-f8f9-4f32-be99-0a9cc4a610cb": {
       "attrs": {
        "height": 0.8,
        "width": 0.8,
        "x": 0.1,
        "y": 0.1
       },
       "content": {
        "cell": "22445200-c560-4e40-ad02-04cfca8ebc4e",
        "part": "whole"
       },
       "id": "151cf6b9-f8f9-4f32-be99-0a9cc4a610cb"
      }
     }
    },
    "b936eb7a-a7e9-471b-9aad-95d11f80c264": {
     "id": "b936eb7a-a7e9-471b-9aad-95d11f80c264",
     "prev": "eaf51f0c-ab75-45e6-a518-a82f15ee628c",
     "regions": {
      "8ae2bec6-4aa7-4717-915e-0b1739b4e85d": {
       "attrs": {
        "height": 0.8,
        "width": 0.8,
        "x": 0.1,
        "y": 0.1
       },
       "content": {
        "cell": "466e74a0-eef1-45b7-b0b3-b26b98c3da6b",
        "part": "whole"
       },
       "id": "8ae2bec6-4aa7-4717-915e-0b1739b4e85d"
      }
     }
    },
    "bb75d74b-8f7a-4346-82cf-f96adea82bf0": {
     "id": "bb75d74b-8f7a-4346-82cf-f96adea82bf0",
     "prev": "ca30f696-6f04-41a7-9d70-a562222718df",
     "regions": {
      "162132c6-c64e-44e2-a598-365415a1c8c0": {
       "attrs": {
        "height": 0.8,
        "width": 0.8,
        "x": 0.1,
        "y": 0.1
       },
       "content": {
        "cell": "6e8f9086-b87b-41c5-a1f0-33c0401d260e",
        "part": "whole"
       },
       "id": "162132c6-c64e-44e2-a598-365415a1c8c0"
      }
     }
    },
    "ca30f696-6f04-41a7-9d70-a562222718df": {
     "id": "ca30f696-6f04-41a7-9d70-a562222718df",
     "prev": "b8100ff5-453f-4cc0-81ac-3e569090dd49",
     "regions": {
      "66f4cd9e-1879-4f12-af0a-a3f789d30cc7": {
       "attrs": {
        "height": 0.8,
        "width": 0.8,
        "x": 0.1,
        "y": 0.1
       },
       "content": {
        "cell": "27d252c7-56a3-49d4-b27e-ef0af1909934",
        "part": "whole"
       },
       "id": "66f4cd9e-1879-4f12-af0a-a3f789d30cc7"
      }
     }
    },
    "cbab5262-b0e5-456a-9098-c211ef646b8b": {
     "id": "cbab5262-b0e5-456a-9098-c211ef646b8b",
     "prev": "8d98b482-fb77-49c1-8803-533f8c2af1d8",
     "regions": {
      "685ff64d-1e69-41d3-9199-208429e7a468": {
       "attrs": {
        "height": 0.8,
        "width": 0.8,
        "x": 0.1,
        "y": 0.1
       },
       "content": {
        "cell": "755b8caa-b935-49a3-b863-a9331f77d23f",
        "part": "whole"
       },
       "id": "685ff64d-1e69-41d3-9199-208429e7a468"
      }
     }
    },
    "d152f1e9-89a6-4a08-beac-5a4b8ef6305b": {
     "id": "d152f1e9-89a6-4a08-beac-5a4b8ef6305b",
     "prev": "6c794dc8-8d3d-4651-9be5-4a988b7a65c3",
     "regions": {
      "92158cde-5380-4a3e-a7cf-854f3ba03631": {
       "attrs": {
        "height": 0.8,
        "width": 0.8,
        "x": 0.1,
        "y": 0.1
       },
       "content": {
        "cell": "a469213e-c469-4850-b3bb-c00a31bb8dc7",
        "part": "whole"
       },
       "id": "92158cde-5380-4a3e-a7cf-854f3ba03631"
      }
     }
    },
    "d7fe5371-3aa8-4408-a070-92283ee7c835": {
     "id": "d7fe5371-3aa8-4408-a070-92283ee7c835",
     "prev": "b936eb7a-a7e9-471b-9aad-95d11f80c264",
     "regions": {
      "eb2cf0cf-05cc-4d17-beb6-49e3d0943fd2": {
       "attrs": {
        "height": 0.8,
        "width": 0.8,
        "x": 0.1,
        "y": 0.1
       },
       "content": {
        "cell": "83948867-d1c2-441d-a9d2-544c89cd59b1",
        "part": "whole"
       },
       "id": "eb2cf0cf-05cc-4d17-beb6-49e3d0943fd2"
      }
     }
    },
    "e494fc6b-ff2b-48c6-8048-0478d1d55840": {
     "id": "e494fc6b-ff2b-48c6-8048-0478d1d55840",
     "prev": null,
     "regions": {
      "d1836556-18c7-4208-97cf-658d4ca535a4": {
       "attrs": {
        "height": 0.8,
        "width": 0.8,
        "x": 0.1,
        "y": 0.1
       },
       "content": {
        "cell": "bce6252a-0545-4446-947b-1592317ca93f",
        "part": "whole"
       },
       "id": "d1836556-18c7-4208-97cf-658d4ca535a4"
      }
     }
    },
    "e765d071-2d6c-4e34-b6c7-4c4bd174569c": {
     "id": "e765d071-2d6c-4e34-b6c7-4c4bd174569c",
     "prev": "d152f1e9-89a6-4a08-beac-5a4b8ef6305b",
     "regions": {
      "6e9c48c0-39a8-4b02-8b76-f500fb066804": {
       "attrs": {
        "height": 0.8,
        "width": 0.8,
        "x": 0.1,
        "y": 0.1
       },
       "content": {
        "cell": "6413e5ec-8f15-44b2-86b4-378521071571",
        "part": "whole"
       },
       "id": "6e9c48c0-39a8-4b02-8b76-f500fb066804"
      }
     }
    },
    "e7a962a1-222a-4aaa-a8d2-ad29ff34e40c": {
     "id": "e7a962a1-222a-4aaa-a8d2-ad29ff34e40c",
     "prev": "0a72654a-b43e-45a5-9881-08319b69d236",
     "regions": {
      "b7b67b8b-fe81-42e0-b997-e42a278b91ff": {
       "attrs": {
        "height": 0.8,
        "width": 0.8,
        "x": 0.1,
        "y": 0.1
       },
       "content": {
        "cell": "ef724bd8-f3e7-4306-95d0-96e9ccf49a9c",
        "part": "whole"
       },
       "id": "b7b67b8b-fe81-42e0-b997-e42a278b91ff"
      }
     }
    },
    "eaf51f0c-ab75-45e6-a518-a82f15ee628c": {
     "id": "eaf51f0c-ab75-45e6-a518-a82f15ee628c",
     "prev": "e494fc6b-ff2b-48c6-8048-0478d1d55840",
     "regions": {
      "5c53ae73-b208-4dc8-aa34-33d15e17b245": {
       "attrs": {
        "height": 0.8,
        "width": 0.8,
        "x": 0.1,
        "y": 0.1
       },
       "content": {
        "cell": "a8396118-c3dc-4f51-8ed2-13583d3a34a5",
        "part": "whole"
       },
       "id": "5c53ae73-b208-4dc8-aa34-33d15e17b245"
      }
     }
    },
    "edbb4607-f60c-4b28-bded-83bd5b180fb3": {
     "id": "edbb4607-f60c-4b28-bded-83bd5b180fb3",
     "prev": "bb75d74b-8f7a-4346-82cf-f96adea82bf0",
     "regions": {
      "fc13d155-d188-4cfa-aa3f-5e2ba06b4c53": {
       "attrs": {
        "height": 0.8,
        "width": 0.8,
        "x": 0.1,
        "y": 0.1
       },
       "content": {
        "cell": "2d06a4c2-e7f3-4a71-bba8-645c56ee3ad5",
        "part": "whole"
       },
       "id": "fc13d155-d188-4cfa-aa3f-5e2ba06b4c53"
      }
     }
    },
    "ef224000-de03-4af7-b2fc-c89d52ee2123": {
     "id": "ef224000-de03-4af7-b2fc-c89d52ee2123",
     "prev": "0920d637-89e0-46e9-b49a-60fc5d9fa196",
     "regions": {
      "d15825ba-2da8-4e2b-b5b4-3c21a54a82d8": {
       "attrs": {
        "height": 0.8,
        "width": 0.8,
        "x": 0.1,
        "y": 0.1
       },
       "content": {
        "cell": "7dad5621-49a9-48bc-91d9-5fb1124fcf92",
        "part": "whole"
       },
       "id": "d15825ba-2da8-4e2b-b5b4-3c21a54a82d8"
      }
     }
    },
    "f62fc740-21a1-4a4e-b03a-9a33bf3a12c7": {
     "id": "f62fc740-21a1-4a4e-b03a-9a33bf3a12c7",
     "prev": "2ea3bdc0-2ecd-4186-aeed-4f1def04028d",
     "regions": {
      "68ae1730-f659-4b2f-8819-974b831d4fc4": {
       "attrs": {
        "height": 0.8,
        "width": 0.8,
        "x": 0.1,
        "y": 0.1
       },
       "content": {
        "cell": "a5b06d07-6b84-495a-8658-f5ee206b4511",
        "part": "whole"
       },
       "id": "68ae1730-f659-4b2f-8819-974b831d4fc4"
      }
     }
    },
    "f79def7e-009f-4e47-ab9c-b6efe4c751a6": {
     "id": "f79def7e-009f-4e47-ab9c-b6efe4c751a6",
     "prev": "e7a962a1-222a-4aaa-a8d2-ad29ff34e40c",
     "regions": {
      "710defac-59e7-4e5b-902b-805d95a1a3f0": {
       "attrs": {
        "height": 0.8,
        "width": 0.8,
        "x": 0.1,
        "y": 0.1
       },
       "content": {
        "cell": "7ddf6901-07f4-4aa7-846d-c7ad80630abf",
        "part": "whole"
       },
       "id": "710defac-59e7-4e5b-902b-805d95a1a3f0"
      }
     }
    }
   },
   "themes": {
    "default": "ca67b348-192f-428a-8faa-8907005735a0",
    "theme": {
     "2ff8beec-7d34-490b-ad94-e0f563398d0e": {
      "backgrounds": {
       "dc7afa04-bf90-40b1-82a5-726e3cff5267": {
        "background-color": "31af15d2-7e15-44c5-ab5e-e04b16a89eff",
        "id": "dc7afa04-bf90-40b1-82a5-726e3cff5267"
       }
      },
      "id": "2ff8beec-7d34-490b-ad94-e0f563398d0e",
      "palette": {
       "19cc588f-0593-49c9-9f4b-e4d7cc113b1c": {
        "id": "19cc588f-0593-49c9-9f4b-e4d7cc113b1c",
        "rgb": [
         252,
         252,
         252
        ]
       },
       "31af15d2-7e15-44c5-ab5e-e04b16a89eff": {
        "id": "31af15d2-7e15-44c5-ab5e-e04b16a89eff",
        "rgb": [
         68,
         68,
         68
        ]
       },
       "50f92c45-a630-455b-aec3-788680ec7410": {
        "id": "50f92c45-a630-455b-aec3-788680ec7410",
        "rgb": [
         197,
         226,
         245
        ]
       },
       "c5cc3653-2ee1-402a-aba2-7caae1da4f6c": {
        "id": "c5cc3653-2ee1-402a-aba2-7caae1da4f6c",
        "rgb": [
         43,
         126,
         184
        ]
       },
       "efa7f048-9acb-414c-8b04-a26811511a21": {
        "id": "efa7f048-9acb-414c-8b04-a26811511a21",
        "rgb": [
         25.118061674008803,
         73.60176211453744,
         107.4819383259912
        ]
       }
      },
      "rules": {
       "a": {
        "color": "19cc588f-0593-49c9-9f4b-e4d7cc113b1c"
       },
       "blockquote": {
        "color": "50f92c45-a630-455b-aec3-788680ec7410",
        "font-size": 3
       },
       "code": {
        "font-family": "Anonymous Pro"
       },
       "h1": {
        "color": "19cc588f-0593-49c9-9f4b-e4d7cc113b1c",
        "font-family": "Merriweather",
        "font-size": 8
       },
       "h2": {
        "color": "19cc588f-0593-49c9-9f4b-e4d7cc113b1c",
        "font-family": "Merriweather",
        "font-size": 6
       },
       "h3": {
        "color": "50f92c45-a630-455b-aec3-788680ec7410",
        "font-family": "Lato",
        "font-size": 5.5
       },
       "h4": {
        "color": "c5cc3653-2ee1-402a-aba2-7caae1da4f6c",
        "font-family": "Lato",
        "font-size": 5
       },
       "h5": {
        "font-family": "Lato"
       },
       "h6": {
        "font-family": "Lato"
       },
       "h7": {
        "font-family": "Lato"
       },
       "li": {
        "color": "50f92c45-a630-455b-aec3-788680ec7410",
        "font-size": 3.25
       },
       "pre": {
        "font-family": "Anonymous Pro",
        "font-size": 4
       }
      },
      "text-base": {
       "color": "19cc588f-0593-49c9-9f4b-e4d7cc113b1c",
       "font-family": "Lato",
       "font-size": 4
      }
     },
     "67d0fffc-f376-403c-8ef0-b7afa94e015e": {
      "id": "67d0fffc-f376-403c-8ef0-b7afa94e015e",
      "palette": {
       "19cc588f-0593-49c9-9f4b-e4d7cc113b1c": {
        "id": "19cc588f-0593-49c9-9f4b-e4d7cc113b1c",
        "rgb": [
         252,
         252,
         252
        ]
       },
       "31af15d2-7e15-44c5-ab5e-e04b16a89eff": {
        "id": "31af15d2-7e15-44c5-ab5e-e04b16a89eff",
        "rgb": [
         68,
         68,
         68
        ]
       },
       "50f92c45-a630-455b-aec3-788680ec7410": {
        "id": "50f92c45-a630-455b-aec3-788680ec7410",
        "rgb": [
         155,
         177,
         192
        ]
       },
       "c5cc3653-2ee1-402a-aba2-7caae1da4f6c": {
        "id": "c5cc3653-2ee1-402a-aba2-7caae1da4f6c",
        "rgb": [
         43,
         126,
         184
        ]
       },
       "efa7f048-9acb-414c-8b04-a26811511a21": {
        "id": "efa7f048-9acb-414c-8b04-a26811511a21",
        "rgb": [
         25.118061674008803,
         73.60176211453744,
         107.4819383259912
        ]
       }
      },
      "rules": {
       "blockquote": {
        "color": "50f92c45-a630-455b-aec3-788680ec7410"
       },
       "code": {
        "font-family": "Anonymous Pro"
       },
       "h1": {
        "color": "c5cc3653-2ee1-402a-aba2-7caae1da4f6c",
        "font-family": "Lato",
        "font-size": 8
       },
       "h2": {
        "color": "c5cc3653-2ee1-402a-aba2-7caae1da4f6c",
        "font-family": "Lato",
        "font-size": 6
       },
       "h3": {
        "color": "50f92c45-a630-455b-aec3-788680ec7410",
        "font-family": "Lato",
        "font-size": 5.5
       },
       "h4": {
        "color": "c5cc3653-2ee1-402a-aba2-7caae1da4f6c",
        "font-family": "Lato",
        "font-size": 5
       },
       "h5": {
        "font-family": "Lato"
       },
       "h6": {
        "font-family": "Lato"
       },
       "h7": {
        "font-family": "Lato"
       },
       "pre": {
        "font-family": "Anonymous Pro",
        "font-size": 4
       }
      },
      "text-base": {
       "font-family": "Merriweather",
       "font-size": 4
      }
     },
     "6a41cd4f-904e-461d-b16b-648d28a4e672": {
      "backgrounds": {
       "dc7afa04-bf90-40b1-82a5-726e3cff5267": {
        "background-color": "31af15d2-7e15-44c5-ab5e-e04b16a89eff",
        "id": "dc7afa04-bf90-40b1-82a5-726e3cff5267"
       }
      },
      "id": "6a41cd4f-904e-461d-b16b-648d28a4e672",
      "palette": {
       "19cc588f-0593-49c9-9f4b-e4d7cc113b1c": {
        "id": "19cc588f-0593-49c9-9f4b-e4d7cc113b1c",
        "rgb": [
         252,
         252,
         252
        ]
       },
       "31af15d2-7e15-44c5-ab5e-e04b16a89eff": {
        "id": "31af15d2-7e15-44c5-ab5e-e04b16a89eff",
        "rgb": [
         68,
         68,
         68
        ]
       },
       "50f92c45-a630-455b-aec3-788680ec7410": {
        "id": "50f92c45-a630-455b-aec3-788680ec7410",
        "rgb": [
         197,
         226,
         245
        ]
       },
       "c5cc3653-2ee1-402a-aba2-7caae1da4f6c": {
        "id": "c5cc3653-2ee1-402a-aba2-7caae1da4f6c",
        "rgb": [
         43,
         126,
         184
        ]
       },
       "efa7f048-9acb-414c-8b04-a26811511a21": {
        "id": "efa7f048-9acb-414c-8b04-a26811511a21",
        "rgb": [
         25.118061674008803,
         73.60176211453744,
         107.4819383259912
        ]
       }
      },
      "rules": {
       "a": {
        "color": "19cc588f-0593-49c9-9f4b-e4d7cc113b1c"
       },
       "blockquote": {
        "color": "50f92c45-a630-455b-aec3-788680ec7410",
        "font-size": 3
       },
       "code": {
        "font-family": "Anonymous Pro"
       },
       "h1": {
        "color": "19cc588f-0593-49c9-9f4b-e4d7cc113b1c",
        "font-family": "Merriweather",
        "font-size": 8
       },
       "h2": {
        "color": "19cc588f-0593-49c9-9f4b-e4d7cc113b1c",
        "font-family": "Merriweather",
        "font-size": 6
       },
       "h3": {
        "color": "50f92c45-a630-455b-aec3-788680ec7410",
        "font-family": "Lato",
        "font-size": 5.5
       },
       "h4": {
        "color": "c5cc3653-2ee1-402a-aba2-7caae1da4f6c",
        "font-family": "Lato",
        "font-size": 5
       },
       "h5": {
        "font-family": "Lato"
       },
       "h6": {
        "font-family": "Lato"
       },
       "h7": {
        "font-family": "Lato"
       },
       "li": {
        "color": "50f92c45-a630-455b-aec3-788680ec7410",
        "font-size": 3.25
       },
       "pre": {
        "font-family": "Anonymous Pro",
        "font-size": 4
       }
      },
      "text-base": {
       "color": "19cc588f-0593-49c9-9f4b-e4d7cc113b1c",
       "font-family": "Lato",
       "font-size": 4
      }
     },
     "afe0e6a9-6b9a-47f8-bcd5-597d8cb69d04": {
      "backgrounds": {
       "dc7afa04-bf90-40b1-82a5-726e3cff5267": {
        "background-color": "31af15d2-7e15-44c5-ab5e-e04b16a89eff",
        "id": "dc7afa04-bf90-40b1-82a5-726e3cff5267"
       }
      },
      "id": "afe0e6a9-6b9a-47f8-bcd5-597d8cb69d04",
      "palette": {
       "19cc588f-0593-49c9-9f4b-e4d7cc113b1c": {
        "id": "19cc588f-0593-49c9-9f4b-e4d7cc113b1c",
        "rgb": [
         252,
         252,
         252
        ]
       },
       "31af15d2-7e15-44c5-ab5e-e04b16a89eff": {
        "id": "31af15d2-7e15-44c5-ab5e-e04b16a89eff",
        "rgb": [
         68,
         68,
         68
        ]
       },
       "50f92c45-a630-455b-aec3-788680ec7410": {
        "id": "50f92c45-a630-455b-aec3-788680ec7410",
        "rgb": [
         197,
         226,
         245
        ]
       },
       "c5cc3653-2ee1-402a-aba2-7caae1da4f6c": {
        "id": "c5cc3653-2ee1-402a-aba2-7caae1da4f6c",
        "rgb": [
         43,
         126,
         184
        ]
       },
       "efa7f048-9acb-414c-8b04-a26811511a21": {
        "id": "efa7f048-9acb-414c-8b04-a26811511a21",
        "rgb": [
         25.118061674008803,
         73.60176211453744,
         107.4819383259912
        ]
       }
      },
      "rules": {
       "a": {
        "color": "19cc588f-0593-49c9-9f4b-e4d7cc113b1c"
       },
       "blockquote": {
        "color": "50f92c45-a630-455b-aec3-788680ec7410",
        "font-size": 3
       },
       "code": {
        "font-family": "Anonymous Pro"
       },
       "h1": {
        "color": "19cc588f-0593-49c9-9f4b-e4d7cc113b1c",
        "font-family": "Merriweather",
        "font-size": 8
       },
       "h2": {
        "color": "19cc588f-0593-49c9-9f4b-e4d7cc113b1c",
        "font-family": "Merriweather",
        "font-size": 6
       },
       "h3": {
        "color": "50f92c45-a630-455b-aec3-788680ec7410",
        "font-family": "Lato",
        "font-size": 5.5
       },
       "h4": {
        "color": "c5cc3653-2ee1-402a-aba2-7caae1da4f6c",
        "font-family": "Lato",
        "font-size": 5
       },
       "h5": {
        "font-family": "Lato"
       },
       "h6": {
        "font-family": "Lato"
       },
       "h7": {
        "font-family": "Lato"
       },
       "li": {
        "color": "50f92c45-a630-455b-aec3-788680ec7410",
        "font-size": 3.25
       },
       "pre": {
        "font-family": "Anonymous Pro",
        "font-size": 4
       }
      },
      "text-base": {
       "color": "19cc588f-0593-49c9-9f4b-e4d7cc113b1c",
       "font-family": "Lato",
       "font-size": 4
      }
     },
     "ca67b348-192f-428a-8faa-8907005735a0": {
      "id": "ca67b348-192f-428a-8faa-8907005735a0",
      "palette": {
       "19cc588f-0593-49c9-9f4b-e4d7cc113b1c": {
        "id": "19cc588f-0593-49c9-9f4b-e4d7cc113b1c",
        "rgb": [
         252,
         252,
         252
        ]
       },
       "31af15d2-7e15-44c5-ab5e-e04b16a89eff": {
        "id": "31af15d2-7e15-44c5-ab5e-e04b16a89eff",
        "rgb": [
         68,
         68,
         68
        ]
       },
       "50f92c45-a630-455b-aec3-788680ec7410": {
        "id": "50f92c45-a630-455b-aec3-788680ec7410",
        "rgb": [
         155,
         177,
         192
        ]
       },
       "c5cc3653-2ee1-402a-aba2-7caae1da4f6c": {
        "id": "c5cc3653-2ee1-402a-aba2-7caae1da4f6c",
        "rgb": [
         43,
         126,
         184
        ]
       },
       "efa7f048-9acb-414c-8b04-a26811511a21": {
        "id": "efa7f048-9acb-414c-8b04-a26811511a21",
        "rgb": [
         25.118061674008803,
         73.60176211453744,
         107.4819383259912
        ]
       }
      },
      "rules": {
       "blockquote": {
        "color": "50f92c45-a630-455b-aec3-788680ec7410"
       },
       "code": {
        "font-family": "Anonymous Pro"
       },
       "h1": {
        "color": "c5cc3653-2ee1-402a-aba2-7caae1da4f6c",
        "font-family": "Lato",
        "font-size": 8
       },
       "h2": {
        "color": "c5cc3653-2ee1-402a-aba2-7caae1da4f6c",
        "font-family": "Lato",
        "font-size": 6
       },
       "h3": {
        "color": "50f92c45-a630-455b-aec3-788680ec7410",
        "font-family": "Lato",
        "font-size": 5.5
       },
       "h4": {
        "color": "c5cc3653-2ee1-402a-aba2-7caae1da4f6c",
        "font-family": "Lato",
        "font-size": 5
       },
       "h5": {
        "font-family": "Lato"
       },
       "h6": {
        "font-family": "Lato"
       },
       "h7": {
        "font-family": "Lato"
       },
       "pre": {
        "font-family": "Anonymous Pro",
        "font-size": 4
       }
      },
      "text-base": {
       "font-family": "Merriweather",
       "font-size": 4
      }
     }
    }
   }
  }
 },
 "nbformat": 4,
 "nbformat_minor": 0
}
