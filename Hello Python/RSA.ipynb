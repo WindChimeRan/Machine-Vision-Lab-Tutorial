{
 "cells": [
  {
   "cell_type": "code",
   "execution_count": 1,
   "metadata": {
    "collapsed": false
   },
   "outputs": [],
   "source": [
    "import json\n",
    "from functools import partial\n",
    "from random import randint"
   ]
  },
  {
   "cell_type": "code",
   "execution_count": 2,
   "metadata": {
    "collapsed": false
   },
   "outputs": [],
   "source": [
    "rand = partial(randint,1000)"
   ]
  },
  {
   "cell_type": "code",
   "execution_count": 3,
   "metadata": {
    "collapsed": true
   },
   "outputs": [],
   "source": [
    "def _gcd(a,b):\n",
    "    # a>b by default\n",
    "    while b != 0:\n",
    "        a,b = b,a%b\n",
    "    return a"
   ]
  },
  {
   "cell_type": "code",
   "execution_count": 4,
   "metadata": {
    "collapsed": false
   },
   "outputs": [],
   "source": [
    "def is_prime(num):\n",
    "    \n",
    "    for cnt in range(2,num//2+1):\n",
    "        if _gcd(num,cnt)!=1 :\n",
    "            return False\n",
    "    return True"
   ]
  },
  {
   "cell_type": "code",
   "execution_count": 5,
   "metadata": {
    "collapsed": false
   },
   "outputs": [],
   "source": [
    "def gen_prime(max_num):\n",
    "    for i in range(max_num,1,-1):\n",
    "        if is_prime(i):\n",
    "            return i"
   ]
  },
  {
   "cell_type": "code",
   "execution_count": 6,
   "metadata": {
    "collapsed": false
   },
   "outputs": [],
   "source": [
    "def rsa_key():\n",
    "    \n",
    "    while True:\n",
    "        p = gen_prime(rand(10000))\n",
    "        q = gen_prime(rand(100000))\n",
    "        if p!=q:\n",
    "            break\n",
    "    n = p*q\n",
    "    m = (p-1)*(q-1)\n",
    "    \n",
    "    e = 65537\n",
    "    \n",
    "    assert _gcd(m,e) == 1\n",
    "    \n",
    "    d = 3\n",
    "    while (e*d) % m != 1:\n",
    "        d+=1\n",
    "    return (n,e),(n,d)"
   ]
  },
  {
   "cell_type": "code",
   "execution_count": 7,
   "metadata": {
    "collapsed": false
   },
   "outputs": [],
   "source": [
    "pub,pri = rsa_key()"
   ]
  },
  {
   "cell_type": "code",
   "execution_count": 8,
   "metadata": {
    "collapsed": false
   },
   "outputs": [
    {
     "data": {
      "text/plain": [
       "(212598521, 65537)"
      ]
     },
     "execution_count": 8,
     "metadata": {},
     "output_type": "execute_result"
    }
   ],
   "source": [
    "pub"
   ]
  },
  {
   "cell_type": "code",
   "execution_count": 9,
   "metadata": {
    "collapsed": false
   },
   "outputs": [
    {
     "data": {
      "text/plain": [
       "(212598521, 1877597)"
      ]
     },
     "execution_count": 9,
     "metadata": {},
     "output_type": "execute_result"
    }
   ],
   "source": [
    "pri"
   ]
  },
  {
   "cell_type": "code",
   "execution_count": 10,
   "metadata": {
    "collapsed": false
   },
   "outputs": [],
   "source": [
    "info = \"hello world!\""
   ]
  },
  {
   "cell_type": "code",
   "execution_count": 11,
   "metadata": {
    "collapsed": true
   },
   "outputs": [],
   "source": [
    "def encrypt(info,pub):\n",
    "    n,e = pub\n",
    "    return list(map(lambda ch:pow(ch,e,n),map(ord,info)))"
   ]
  },
  {
   "cell_type": "code",
   "execution_count": 12,
   "metadata": {
    "collapsed": false
   },
   "outputs": [],
   "source": [
    "def decrypt(cryto,pri):\n",
    "    n,d = pri\n",
    "    return \"\".join(map(lambda ch:chr(pow(ch,d,n)),cryto))"
   ]
  },
  {
   "cell_type": "code",
   "execution_count": 13,
   "metadata": {
    "collapsed": true
   },
   "outputs": [],
   "source": [
    "cryto = encrypt(info,pub)"
   ]
  },
  {
   "cell_type": "code",
   "execution_count": 14,
   "metadata": {
    "collapsed": false
   },
   "outputs": [
    {
     "data": {
      "text/plain": [
       "'hello world!'"
      ]
     },
     "execution_count": 14,
     "metadata": {},
     "output_type": "execute_result"
    }
   ],
   "source": [
    "decrypt(cryto,pri)"
   ]
  },
  {
   "cell_type": "code",
   "execution_count": 15,
   "metadata": {
    "collapsed": true
   },
   "outputs": [],
   "source": [
    "import rsa"
   ]
  },
  {
   "cell_type": "code",
   "execution_count": 16,
   "metadata": {
    "collapsed": true
   },
   "outputs": [],
   "source": [
    "?rsa.newkeys"
   ]
  },
  {
   "cell_type": "code",
   "execution_count": 22,
   "metadata": {
    "collapsed": false,
    "scrolled": true
   },
   "outputs": [],
   "source": [
    "pub,pri = rsa.newkeys(1024)"
   ]
  },
  {
   "cell_type": "code",
   "execution_count": 23,
   "metadata": {
    "collapsed": false
   },
   "outputs": [
    {
     "data": {
      "text/plain": [
       "PublicKey(154236847318845446997004035244937504517813145947560525638465301520777155663470004176345559056117799258517650419182102334303153051019350609151183729920768503176419390321548619416456074370723356459981513394985101447924943045488240631743170554632565207856316904039207755610578878079641205067248135948928438094381, 65537)"
      ]
     },
     "execution_count": 23,
     "metadata": {},
     "output_type": "execute_result"
    }
   ],
   "source": [
    "pub"
   ]
  },
  {
   "cell_type": "code",
   "execution_count": 25,
   "metadata": {
    "collapsed": false
   },
   "outputs": [
    {
     "data": {
      "text/plain": [
       "PrivateKey(154236847318845446997004035244937504517813145947560525638465301520777155663470004176345559056117799258517650419182102334303153051019350609151183729920768503176419390321548619416456074370723356459981513394985101447924943045488240631743170554632565207856316904039207755610578878079641205067248135948928438094381, 65537, 141191775913557436976643119008877132704299584631245650169432340501358082867299684614121419503680840574263514034032852395504575493886734523176466934160572085665129733329939507605866708561643708531887090896373419471425031117255034571867317766195271917773623793904678762596133375387698623926831039483735539537817, 53818468060161524442407100880305947262214813754129187093037419963703348759875263878485756370050593675671637776485400109676138560007366265089653829443771907756395147, 2865872123049474600751361752111534423089911292495071528299211540851582886705273354054751560677646149916918050256805591925056170870150725117898023)"
      ]
     },
     "execution_count": 25,
     "metadata": {},
     "output_type": "execute_result"
    }
   ],
   "source": [
    "pri"
   ]
  },
  {
   "cell_type": "code",
   "execution_count": null,
   "metadata": {
    "collapsed": true
   },
   "outputs": [],
   "source": []
  }
 ],
 "metadata": {
  "kernelspec": {
   "display_name": "Python [Root]",
   "language": "python",
   "name": "Python [Root]"
  },
  "language_info": {
   "codemirror_mode": {
    "name": "ipython",
    "version": 3
   },
   "file_extension": ".py",
   "mimetype": "text/x-python",
   "name": "python",
   "nbconvert_exporter": "python",
   "pygments_lexer": "ipython3",
   "version": "3.5.2"
  }
 },
 "nbformat": 4,
 "nbformat_minor": 0
}
