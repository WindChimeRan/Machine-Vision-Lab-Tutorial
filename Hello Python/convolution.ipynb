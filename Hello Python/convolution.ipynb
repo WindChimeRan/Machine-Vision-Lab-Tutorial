{
 "cells": [
  {
   "cell_type": "code",
   "execution_count": 48,
   "metadata": {
    "collapsed": true
   },
   "outputs": [],
   "source": [
    "from scipy.misc import imread,imshow,imsave\n",
    "import numpy as np"
   ]
  },
  {
   "cell_type": "markdown",
   "metadata": {},
   "source": [
    "输入图片大小 W×W\n",
    "Filter大小 F×F\n",
    "步长 S\n",
    "padding的像素数 P\n",
    "\n",
    "N = (W − F + 2P )/S+1\n",
    "\n",
    "padding = 'SAME' => W = N\n",
    "\n",
    "S*(W-1) = W-F+2P\n",
    "P = ((S-1)*W-S+F)/2"
   ]
  },
  {
   "cell_type": "code",
   "execution_count": 49,
   "metadata": {
    "collapsed": false
   },
   "outputs": [],
   "source": [
    "img = np.floor(imread(\"/home/ryan/Desktop/cat.jpg\"))"
   ]
  },
  {
   "cell_type": "code",
   "execution_count": 50,
   "metadata": {
    "collapsed": false
   },
   "outputs": [],
   "source": [
    "kernel = np.ones([3,3])/9\n",
    "kernel = np.array([\n",
    "        [0,-1,0],\n",
    "        [-1,4,-1],\n",
    "        [0,-1,0]\n",
    "    ])"
   ]
  },
  {
   "cell_type": "code",
   "execution_count": 65,
   "metadata": {
    "collapsed": false
   },
   "outputs": [],
   "source": [
    "shape = img.shape\n",
    "stride = 1\n",
    "S = stride\n",
    "F = 3\n",
    "W = shape[0]\n",
    "H = shape[1]\n",
    "Pw = round(((S-1)*W-S+F)/2)\n",
    "Ph = round(((S-1)*H-S+F)/2)"
   ]
  },
  {
   "cell_type": "code",
   "execution_count": 66,
   "metadata": {
    "collapsed": false
   },
   "outputs": [],
   "source": [
    "# padding\n",
    "\n",
    "padding_img = np.zeros([W+2*Pw,H+2*Ph,shape[2]])\n",
    "for c in range(shape[2]):\n",
    "    padding_img[Pw:W+Pw,Ph:H+Ph,c] = img[:,:,c]\n",
    "    \n",
    "output = np.zeros_like(a=padding_img)"
   ]
  },
  {
   "cell_type": "code",
   "execution_count": 69,
   "metadata": {
    "collapsed": false
   },
   "outputs": [],
   "source": [
    "#convolution\n",
    "\n",
    "for c in range(shape[2]):\n",
    "    for i in range(Pw, shape[0]+Pw,stride):\n",
    "        for j in range(Ph,shape[1]+Ph,stride):\n",
    "            output[i-Pw,j-Ph,c] = np.sum(padding_img[i-Pw:i+Pw+1,j-Ph:j+Ph+1,c]*kernel)"
   ]
  },
  {
   "cell_type": "code",
   "execution_count": 70,
   "metadata": {
    "collapsed": true
   },
   "outputs": [],
   "source": [
    "imshow(output)"
   ]
  },
  {
   "cell_type": "code",
   "execution_count": 73,
   "metadata": {
    "collapsed": false
   },
   "outputs": [],
   "source": [
    "imsave('laplace.jpg',output)"
   ]
  },
  {
   "cell_type": "markdown",
   "metadata": {},
   "source": [
    "There is a bug related to stride, What if the stride = 2?\n",
    "\n",
    "This code is not pythonic\n",
    "How about using rank4 tensor?\n"
   ]
  },
  {
   "cell_type": "code",
   "execution_count": null,
   "metadata": {
    "collapsed": true
   },
   "outputs": [],
   "source": []
  }
 ],
 "metadata": {
  "kernelspec": {
   "display_name": "Python [Root]",
   "language": "python",
   "name": "Python [Root]"
  },
  "language_info": {
   "codemirror_mode": {
    "name": "ipython",
    "version": 3
   },
   "file_extension": ".py",
   "mimetype": "text/x-python",
   "name": "python",
   "nbconvert_exporter": "python",
   "pygments_lexer": "ipython3",
   "version": "3.5.2"
  }
 },
 "nbformat": 4,
 "nbformat_minor": 0
}
